{
  "nbformat": 4,
  "nbformat_minor": 0,
  "metadata": {
    "colab": {
      "provenance": []
    },
    "kernelspec": {
      "name": "python3",
      "display_name": "Python 3"
    },
    "language_info": {
      "name": "python"
    }
  },
  "cells": [
    {
      "cell_type": "code",
      "execution_count": 1,
      "metadata": {
        "colab": {
          "base_uri": "https://localhost:8080/"
        },
        "id": "OOpIFFxZa1u-",
        "outputId": "03f4a066-111f-4dc7-85a2-339f4501db9e"
      },
      "outputs": [
        {
          "output_type": "stream",
          "name": "stdout",
          "text": [
            "Mounted at /content/drive\n"
          ]
        }
      ],
      "source": [
        "from google.colab import drive\n",
        "drive.mount('/content/drive')"
      ]
    },
    {
      "cell_type": "code",
      "source": [
        "import os\n",
        "import zipfile\n",
        "import cv2\n",
        "import numpy as np\n",
        "from sklearn.model_selection import train_test_split\n",
        "from tensorflow import keras\n",
        "from tensorflow.keras.models import Sequential\n",
        "from tensorflow.keras.layers import Conv2D, MaxPooling2D, UpSampling2D\n",
        "from tensorflow.keras.losses import BinaryCrossentropy\n",
        "from tensorflow.keras.metrics import Accuracy, Precision, Recall, AUC\n",
        "from tensorflow.keras.optimizers import Adam"
      ],
      "metadata": {
        "id": "Vg8sYrmDj91L"
      },
      "execution_count": 32,
      "outputs": []
    },
    {
      "cell_type": "code",
      "source": [
        "# Define dataset directories and image size\n",
        "input_dir = '/content/drive/MyDrive/CRUDAS'  # Directory containing input images\n",
        "output_dir = '/content/drive/MyDrive/LIMPIAS'  # Directory containing segmented images\n",
        "image_size = 100  # Adjust according to your requirements"
      ],
      "metadata": {
        "id": "bLDYIuUJj3S5"
      },
      "execution_count": 70,
      "outputs": []
    },
    {
      "cell_type": "code",
      "source": [
        "# Function to load and preprocess data from a directory\n",
        "def load_data(input_dir, output_dir, image_size):\n",
        "    input_images = []\n",
        "    output_images = []\n",
        "\n",
        "    for filename in os.listdir(input_dir):\n",
        "        if filename.endswith(\".jpeg\") or filename.endswith(\".png\"):\n",
        "            input_image_path = os.path.join(input_dir, filename)\n",
        "            output_image_path = os.path.join(output_dir, filename)\n",
        "\n",
        "            # Load and preprocess input image\n",
        "            input_image = cv2.imread(input_image_path)\n",
        "            input_image = cv2.resize(input_image, image_size)\n",
        "            input_image = input_image / 255.0\n",
        "\n",
        "            # Load and preprocess output image\n",
        "            output_image = cv2.imread(output_image_path, cv2.IMREAD_GRAYSCALE)\n",
        "            output_image = cv2.resize(output_image, image_size)\n",
        "            output_image = np.expand_dims(output_image, axis=-1) / 255.0\n",
        "\n",
        "            input_images.append(input_image)\n",
        "            output_images.append(output_image)\n",
        "\n",
        "    return np.array(input_images), np.array(output_images)\n"
      ],
      "metadata": {
        "id": "MCNvN_jnNL8m"
      },
      "execution_count": 71,
      "outputs": []
    },
    {
      "cell_type": "code",
      "source": [
        "# Function to create U-Net model\n",
        "def create_unet_model(input_shape):\n",
        "    model = Sequential([\n",
        "        # Encoder\n",
        "        Conv2D(64, (3, 3), activation='relu', padding='same', input_shape=input_shape),\n",
        "        MaxPooling2D((2, 2)),\n",
        "        Conv2D(128, (3, 3), activation='relu', padding='same'),\n",
        "        MaxPooling2D((2, 2)),\n",
        "        # Decoder\n",
        "        Conv2D(128, (3, 3), activation='relu', padding='same'),\n",
        "        UpSampling2D((2, 2)),\n",
        "        Conv2D(64, (3, 3), activation='relu', padding='same'),\n",
        "        UpSampling2D((2, 2)),\n",
        "        Conv2D(1, (3, 3), activation='sigmoid', padding='same')\n",
        "    ])\n",
        "    return model"
      ],
      "metadata": {
        "id": "oo9A0NPrNSLh"
      },
      "execution_count": 72,
      "outputs": []
    },
    {
      "cell_type": "code",
      "source": [
        "# Load and preprocess data\n",
        "X, y = load_data(input_dir, output_dir, image_size)\n"
      ],
      "metadata": {
        "id": "vH2bkC7rNWYk"
      },
      "execution_count": 73,
      "outputs": []
    },
    {
      "cell_type": "code",
      "source": [
        "# Split data into training and testing sets\n",
        "X_train, X_test, y_train, y_test = train_test_split(X, y, test_size=0.2, random_state=42)"
      ],
      "metadata": {
        "id": "d1QNpGhZ4gD6"
      },
      "execution_count": null,
      "outputs": []
    },
    {
      "cell_type": "code",
      "source": [
        "print(f\"Shape of X_train: {X_train.shape}\")\n",
        "print(f\"Shape of y_train: {y_train.shape}\")"
      ],
      "metadata": {
        "colab": {
          "base_uri": "https://localhost:8080/"
        },
        "id": "YanK_NHFswsn",
        "outputId": "7e7e52a2-0809-4086-9a82-942d776b170a"
      },
      "execution_count": null,
      "outputs": [
        {
          "output_type": "stream",
          "name": "stdout",
          "text": [
            "Shape of X_train: (6, 126, 126, 3)\n",
            "Shape of y_train: (6, 126, 126, 1)\n"
          ]
        }
      ]
    },
    {
      "cell_type": "code",
      "source": [
        "print(f\"First 5 elements of X: {X[:5]}\")\n",
        "print(f\"First 5 elements of y: {y[:5]}\")"
      ],
      "metadata": {
        "colab": {
          "base_uri": "https://localhost:8080/"
        },
        "id": "9tRUwoNLe2TF",
        "outputId": "cbd932d5-fcce-4963-bfdf-597d45027860"
      },
      "execution_count": 44,
      "outputs": [
        {
          "output_type": "stream",
          "name": "stdout",
          "text": [
            "First 5 elements of X: []\n",
            "First 5 elements of y: []\n"
          ]
        }
      ]
    },
    {
      "cell_type": "code",
      "source": [
        "# Split data into training and testing sets\n",
        "X_train, X_test, y_train, y_test = train_test_split(X, y, test_size=0.2, random_state=42)"
      ],
      "metadata": {
        "id": "FpQ-2EX7qnBg"
      },
      "execution_count": null,
      "outputs": []
    },
    {
      "cell_type": "code",
      "source": [
        "# Create and compile the U-Net model\n",
        "model = create_unet_model(input_shape=(image_size[0], image_size[1], 3))\n",
        "model.compile(optimizer=Adam(), loss=BinaryCrossentropy(), metrics=[Accuracy(), Precision(), Recall(), AUC()])"
      ],
      "metadata": {
        "id": "82VQICIDT7O8"
      },
      "execution_count": 39,
      "outputs": []
    },
    {
      "cell_type": "code",
      "source": [
        "# Train the model\n",
        "history = model.fit(X_train, y_train, epochs=10, batch_size=32, validation_split=0.2)"
      ],
      "metadata": {
        "id": "2w9uHJQfrEa8"
      },
      "execution_count": null,
      "outputs": []
    },
    {
      "cell_type": "code",
      "source": [
        "# Evaluate model performance\n",
        "train_metrics = model.evaluate(X_train, y_train)\n",
        "test_metrics = model.evaluate(X_test, y_test)"
      ],
      "metadata": {
        "id": "H3WDuKzYrH_4"
      },
      "execution_count": null,
      "outputs": []
    },
    {
      "cell_type": "code",
      "source": [
        "print(\"Training Metrics:\")\n",
        "print(\"Loss:\", train_metrics[0])\n",
        "print(\"Accuracy:\", train_metrics[1])\n",
        "print(\"Precision:\", train_metrics[2])\n",
        "print(\"Recall:\", train_metrics[3])\n",
        "print(\"AUC:\", train_metrics[4])\n"
      ],
      "metadata": {
        "id": "_XuxqPOTrLKR"
      },
      "execution_count": null,
      "outputs": []
    },
    {
      "cell_type": "code",
      "source": [
        "print(\"\\nTesting Metrics:\")\n",
        "print(\"Loss:\", test_metrics[0])\n",
        "print(\"Accuracy:\", test_metrics[1])\n",
        "print(\"Precision:\", test_metrics[2])\n",
        "print(\"Recall:\", test_metrics[3])\n",
        "print(\"AUC:\", test_metrics[4])"
      ],
      "metadata": {
        "id": "FJAEClpDrQVX"
      },
      "execution_count": null,
      "outputs": []
    },
    {
      "cell_type": "code",
      "source": [
        "# Perform segmentation on test images\n",
        "segmented_images = model.predict(X_test)\n",
        "\n",
        "# Display test images and segmented images for visual inspection\n",
        "for i in range(len(X_test)):\n",
        "    cv2.imshow('Test Image', X_test[i])\n",
        "    cv2.imshow('Segmented Image', segmented_images[i])\n",
        "    cv2.waitKey(0)\n",
        "\n",
        "cv2.destroyAllWindows()"
      ],
      "metadata": {
        "id": "TyN7_zGArbFk"
      },
      "execution_count": null,
      "outputs": []
    },
    {
      "cell_type": "code",
      "source": [],
      "metadata": {
        "id": "jZMt9yEW1B1U"
      },
      "execution_count": null,
      "outputs": []
    }
  ]
}